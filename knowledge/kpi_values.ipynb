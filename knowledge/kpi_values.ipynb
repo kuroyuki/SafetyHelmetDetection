{
 "cells": [
  {
   "cell_type": "code",
   "execution_count": 2,
   "id": "165230ff",
   "metadata": {},
   "outputs": [
    {
     "name": "stdout",
     "output_type": "stream",
     "text": [
      "Minimal threshold is 0.7\n",
      "Minimal dimension is 416*416\n"
     ]
    }
   ],
   "source": [
    "import rdflib\n",
    "\n",
    "g = rdflib.Graph()\n",
    "result = g.parse(file=open(\"KB_SHD.n3\", \"r\"), format=\"text/n3\")\n",
    "    \n",
    "value_kpi_threshold = g.query(\n",
    "    \"\"\"SELECT DISTINCT ?class ?min_threshold\n",
    "       WHERE {\n",
    "          ?class a classes:KPI .\n",
    "          ?class rdfs:label \"Threshold\" . \n",
    "          ?class prop:hasMinValue  ?min_threshold .\n",
    "       }\"\"\")\n",
    "\n",
    "for row in value_kpi_threshold:\n",
    "    kpi_threshold = str(row.asdict()['min_threshold'].toPython())\n",
    "    print('Minimal threshold is', kpi_threshold) \n",
    "\n",
    "value_kpi_dimension = g.query(\n",
    "    \"\"\"SELECT DISTINCT ?class ?min_dimension\n",
    "       WHERE {\n",
    "          ?class a classes:KPI .\n",
    "          ?class rdfs:label \"Image dimensions\" . \n",
    "          ?class prop:hasMinValue  ?min_dimension .\n",
    "       }\"\"\")\n",
    "\n",
    "for row in value_kpi_dimension:\n",
    "    kpi_dimension = str(row.asdict()['min_dimension'].toPython())\n",
    "    print('Minimal dimension is '+str(kpi_dimension)+'*'+ str(kpi_dimension) )"
   ]
  },
  {
   "cell_type": "code",
   "execution_count": null,
   "id": "9262d3b0",
   "metadata": {},
   "outputs": [],
   "source": []
  }
 ],
 "metadata": {
  "kernelspec": {
   "display_name": "Python 3 (ipykernel)",
   "language": "python",
   "name": "python3"
  },
  "language_info": {
   "codemirror_mode": {
    "name": "ipython",
    "version": 3
   },
   "file_extension": ".py",
   "mimetype": "text/x-python",
   "name": "python",
   "nbconvert_exporter": "python",
   "pygments_lexer": "ipython3",
   "version": "3.9.13"
  }
 },
 "nbformat": 4,
 "nbformat_minor": 5
}
