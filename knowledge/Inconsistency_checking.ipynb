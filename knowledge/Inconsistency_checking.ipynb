{
 "cells": [
  {
   "cell_type": "code",
   "execution_count": 1,
   "id": "b8cdc047",
   "metadata": {},
   "outputs": [],
   "source": [
    "from numpy import exp, array, random, dot\n",
    "from sklearn import datasets\n",
    "import numpy as np\n",
    "import matplotlib.pyplot as plt\n",
    "import pandas as pd\n",
    "import itertools \n",
    "from tkinter import *\n",
    "from tkinter import ttk\n",
    "import tkinter as tk\n",
    "import rdflib\n",
    "from rdflib import *\n",
    "import plotly.graph_objects as go\n",
    "from rdflib import URIRef, Graph, Namespace\n",
    "from rdflib.plugins.parsers.notation3 import N3Parser\n",
    "import re\n"
   ]
  },
  {
   "cell_type": "code",
   "execution_count": 2,
   "id": "c28ea824",
   "metadata": {},
   "outputs": [
    {
     "name": "stdout",
     "output_type": "stream",
     "text": [
      "(rdflib.term.Literal('Bounding Box'), rdflib.term.URIRef('URN:shd:BoundingBox'))\n",
      "(rdflib.term.Literal('Camera'), rdflib.term.URIRef('URN:shd:Camera'))\n"
     ]
    }
   ],
   "source": [
    "g_2 = rdflib.Graph()\n",
    "result = g_2.parse(file=open(\"KB_SHD.n3\", \"r\"), format=\"text/n3\")\n",
    "\n",
    "qres = g_2.query(\n",
    "    \"\"\"SELECT DISTINCT ?label ?class\n",
    "       WHERE {\n",
    "          ?class rdf:type owl:Class .\n",
    "          ?class rdfs:label ?label .\n",
    "       }\"\"\")\n",
    "\n",
    "for row in qres:\n",
    "    print(row)"
   ]
  },
  {
   "cell_type": "code",
   "execution_count": 3,
   "id": "3b6bcd08",
   "metadata": {},
   "outputs": [],
   "source": [
    "g_1 = rdflib.Graph()\n",
    "result = g_1.parse(file=open(\"Helmet_rules.n3\", \"r\"), format=\"text/n3\")"
   ]
  },
  {
   "cell_type": "code",
   "execution_count": 4,
   "id": "3e92b13a",
   "metadata": {},
   "outputs": [],
   "source": [
    "Ruleqres = g_1.query(\n",
    "            \"\"\"SELECT DISTINCT ?kpis ?allofKPIs\n",
    "               WHERE {\n",
    "                  ?kpis owl:oneof ?allofKPIs .\n",
    "               }\"\"\")\n",
    "kpislist=[]\n",
    "allofKPIslist=[]\n",
    "for row in Ruleqres:\n",
    "    kpis = str(row.asdict()['kpis'].toPython())\n",
    "    allofKPIs = str(row.asdict()['allofKPIs'].toPython())\n",
    "    kpislist.append(kpis)\n",
    "    allofKPIslist.append(allofKPIs)\n",
    "    kpislist.sort() \n",
    "allofKPIslist.sort()"
   ]
  },
  {
   "cell_type": "code",
   "execution_count": 5,
   "id": "86b77311",
   "metadata": {
    "scrolled": true
   },
   "outputs": [
    {
     "name": "stdout",
     "output_type": "stream",
     "text": [
      "========== RULE owl:oneof =========\n",
      "['URN:inds:AllKPIs', 'URN:inds:AllKPIs', 'URN:inds:AllKPIs', 'URN:inds:AllKPIs', 'URN:inds:AllKPIs', 'URN:inds:AllKPIs', 'URN:inds:AllKPIs', 'URN:inds:AllKPIs', 'URN:inds:AllKPIs']\n",
      "['URN:inds:kpi0', 'URN:inds:kpi1', 'URN:inds:kpi2', 'URN:inds:kpi3', 'URN:inds:kpi4', 'URN:inds:kpi5', 'URN:inds:kpi6', 'URN:inds:kpi7', 'URN:inds:kpi8']\n"
     ]
    }
   ],
   "source": [
    "print(\"========== RULE owl:oneof =========\")\n",
    "print(kpislist)\n",
    "print(allofKPIslist)"
   ]
  },
  {
   "cell_type": "code",
   "execution_count": 6,
   "id": "056e4dbc",
   "metadata": {},
   "outputs": [],
   "source": [
    "KBqres = g_2.query(\n",
    "            \"\"\"SELECT DISTINCT ?ind ?ExistingKPIs\n",
    "               WHERE {\n",
    "                  ?ind prop:hasKPI ?ExistingKPIs .\n",
    "               }\"\"\")\n",
    "indlist=[]\n",
    "ExistingKPIslist=[]\n",
    "for row in KBqres:\n",
    "    ind = str(row.asdict()['ind'].toPython())\n",
    "    ExistingKPIs = str(row.asdict()['ExistingKPIs'].toPython())\n",
    "    indlist.append(ind)\n",
    "    ExistingKPIslist.append(ExistingKPIs)"
   ]
  },
  {
   "cell_type": "code",
   "execution_count": 7,
   "id": "c96e4592",
   "metadata": {},
   "outputs": [
    {
     "name": "stdout",
     "output_type": "stream",
     "text": [
      "========== KB prop:hasKPI =========\n",
      "['URN:inds:proc0', 'URN:inds:proc01', 'URN:inds:proc0', 'URN:inds:proc03', 'URN:inds:proc0', 'URN:inds:proc03']\n",
      "['URN:inds:kpi1', 'URN:inds:kpi1', 'URN:inds:kpi2', 'URN:inds:kpi2', 'URN:inds:kpi3', 'URN:inds:kpi3']\n"
     ]
    }
   ],
   "source": [
    "print(\"========== KB prop:hasKPI =========\")\n",
    "print(indlist)\n",
    "print(ExistingKPIslist)"
   ]
  },
  {
   "cell_type": "code",
   "execution_count": 8,
   "id": "639959bf",
   "metadata": {},
   "outputs": [
    {
     "name": "stdout",
     "output_type": "stream",
     "text": [
      "URN:inds:kpi1    in list\n",
      "URN:inds:kpi1    in list\n",
      "URN:inds:kpi2    in list\n",
      "URN:inds:kpi2    in list\n",
      "URN:inds:kpi3    in list\n",
      "URN:inds:kpi3    in list\n"
     ]
    }
   ],
   "source": [
    "for item in ExistingKPIslist:\n",
    "    if item in allofKPIslist:\n",
    "        print(item+'    in list')\n",
    "    else:\n",
    "        print(\"Inconsistency Found in item  \"+item)"
   ]
  },
  {
   "cell_type": "code",
   "execution_count": 9,
   "id": "7e2d6c82",
   "metadata": {},
   "outputs": [
    {
     "name": "stdout",
     "output_type": "stream",
     "text": [
      "========== KB prop:hasKPI =========\n",
      "['inds:proc0', 'inds:proc0', 'inds:proc0', 'inds:proc01', 'inds:proc03', 'inds:proc03']\n",
      "['inds:kpi1', 'inds:kpi1', 'inds:kpi2', 'inds:kpi2', 'inds:kpi3', 'inds:kpi3']\n",
      "========== checking KPI consistency by owl:oneOf =========\n",
      "Inconsistency Found in item  inds:kpi1\n",
      "Inconsistency Found in item  inds:kpi1\n",
      "Inconsistency Found in item  inds:kpi2\n",
      "Inconsistency Found in item  inds:kpi2\n",
      "Inconsistency Found in item  inds:kpi3\n",
      "Inconsistency Found in item  inds:kpi3\n",
      "==========================================================\n"
     ]
    }
   ],
   "source": [
    "KBqres_kpi = g_2.query(\n",
    "            \"\"\"SELECT DISTINCT ?ind ?ExistingKPIs\n",
    "               WHERE {\n",
    "                  ?ind prop:hasKPI ?ExistingKPIs .\n",
    "               }\"\"\")\n",
    "ind_kpi_list=[]\n",
    "ExistingKPIlist=[]\n",
    "for row in KBqres_kpi:\n",
    "    ind = str(row.asdict()['ind'].toPython())\n",
    "    ExistingKPI = str(row.asdict()['ExistingKPIs'].toPython())\n",
    "    ind_kpi_list.append(ind)\n",
    "    ExistingKPIlist.append(ExistingKPI)\n",
    "\n",
    "ind_kpi_list.sort() \n",
    "ExistingKPIlist.sort()\n",
    "\n",
    "ind_kpi_list = [w[4:] for w in ind_kpi_list]\n",
    "ExistingKPIlist = [w[4:] for w in ExistingKPIlist]\n",
    "\n",
    "print(\"========== KB prop:hasKPI =========\")\n",
    "print(ind_kpi_list)\n",
    "print(ExistingKPIlist)\n",
    "\n",
    "print(\"========== checking KPI consistency by owl:oneOf =========\")\n",
    "\n",
    "for item in ExistingKPIlist:\n",
    "    if item in allofKPIslist:\n",
    "        print(item+'    in list')\n",
    "    else:\n",
    "        print(\"Inconsistency Found in item  \"+item)\n",
    "\n",
    "print(\"==========================================================\")\n"
   ]
  },
  {
   "cell_type": "code",
   "execution_count": 10,
   "id": "7c909f0f",
   "metadata": {},
   "outputs": [
    {
     "name": "stdout",
     "output_type": "stream",
     "text": [
      "Inconsistency found in disjoint classes: URN:classes:state and URN:classes:Process\n"
     ]
    }
   ],
   "source": [
    "qres = g_1.query(\n",
    "    \"\"\"SELECT DISTINCT ?class1 ?class2\n",
    "       WHERE {\n",
    "          ?class1 owl:disjointWith ?class2 .\n",
    "       }\"\"\")\n",
    "        \n",
    "for row in qres:\n",
    "    class1 = str(row.asdict()['class1'].toPython())\n",
    "    class2 = str(row.asdict()['class2'].toPython())\n",
    "    print(\"Inconsistency found in disjoint classes: \" + class1 + \" and \" + class2)\n"
   ]
  },
  {
   "cell_type": "code",
   "execution_count": 11,
   "id": "4a6d8d95",
   "metadata": {},
   "outputs": [
    {
     "name": "stdout",
     "output_type": "stream",
     "text": [
      "Inconsistency found in disjoint properties: URN:prop:hasKPI and URN:prop:causes\n"
     ]
    }
   ],
   "source": [
    "qres = g_1.query(\n",
    "    \"\"\"SELECT DISTINCT ?prop1 ?prop2\n",
    "       WHERE {\n",
    "          ?prop1 owl:propertyDisjointWith ?prop2 .\n",
    "       }\"\"\")\n",
    "        \n",
    "for row in qres:\n",
    "    prop1 = str(row.asdict()['prop1'].toPython())\n",
    "    prop2 = str(row.asdict()['prop2'].toPython())\n",
    "    print(\"Inconsistency found in disjoint properties: \" + prop1 + \" and \" + prop2)\n"
   ]
  },
  {
   "cell_type": "code",
   "execution_count": 12,
   "id": "7c4468a0",
   "metadata": {},
   "outputs": [
    {
     "name": "stdout",
     "output_type": "stream",
     "text": [
      "Inconsistency found in IrreflexiveProperty: URN:prop:hasKPI\n"
     ]
    }
   ],
   "source": [
    "qres = g_1.query(\n",
    "    \"\"\"SELECT DISTINCT ?prop\n",
    "       WHERE {\n",
    "          ?prop rdf:type owl:IrreflexiveProperty .\n",
    "       }\"\"\")\n",
    "        \n",
    "for row in qres:\n",
    "    prop_uri = str(row.asdict()['prop'].toPython())\n",
    "    print(\"Inconsistency found in IrreflexiveProperty: \" + prop_uri)\n"
   ]
  },
  {
   "cell_type": "code",
   "execution_count": 13,
   "id": "5ad956b9",
   "metadata": {},
   "outputs": [
    {
     "name": "stdout",
     "output_type": "stream",
     "text": [
      "Inconsistency found in AsymmetricProperty: URN:prop:causes\n",
      "Inconsistency found in AsymmetricProperty: URN:prop:hasKPI\n"
     ]
    }
   ],
   "source": [
    "qres = g_1.query(\n",
    "    \"\"\"SELECT DISTINCT ?prop\n",
    "       WHERE {\n",
    "          ?prop rdf:type owl:AsymmetricProperty .\n",
    "       }\"\"\")\n",
    "        \n",
    "for row in qres:\n",
    "    prop_uri = str(row.asdict()['prop'].toPython())\n",
    "    print(\"Inconsistency found in AsymmetricProperty: \" + prop_uri)\n"
   ]
  },
  {
   "cell_type": "code",
   "execution_count": null,
   "id": "c7995fb8",
   "metadata": {},
   "outputs": [],
   "source": []
  }
 ],
 "metadata": {
  "kernelspec": {
   "display_name": "Python 3 (ipykernel)",
   "language": "python",
   "name": "python3"
  },
  "language_info": {
   "codemirror_mode": {
    "name": "ipython",
    "version": 3
   },
   "file_extension": ".py",
   "mimetype": "text/x-python",
   "name": "python",
   "nbconvert_exporter": "python",
   "pygments_lexer": "ipython3",
   "version": "3.9.13"
  }
 },
 "nbformat": 4,
 "nbformat_minor": 5
}
